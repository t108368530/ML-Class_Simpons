{
 "cells": [
  {
   "cell_type": "code",
   "execution_count": 7,
   "metadata": {},
   "outputs": [
    {
     "name": "stdout",
     "output_type": "stream",
     "text": [
      "The tensorboard extension is already loaded. To reload it, use:\n",
      "  %reload_ext tensorboard\n"
     ]
    }
   ],
   "source": [
    "%load_ext tensorboard\n",
    "\n",
    "\n",
    "import numpy as np\n",
    "import pandas as pd\n",
    "import pandas_profiling\n",
    "from tensorflow import keras\n",
    "from tensorflow.keras import models\n",
    "from tensorflow.keras import layers\n",
    "import os, datetime, glob\n",
    "from shutil import copyfile\n",
    "\n",
    "reSize=(224,224)\n",
    "batchSize=50\n",
    "h5FileName='res50simpons.h5'\n",
    "\n",
    "\n"
   ]
  },
  {
   "cell_type": "code",
   "execution_count": 8,
   "metadata": {},
   "outputs": [
    {
     "name": "stdout",
     "output_type": "stream",
     "text": [
      "Found 13675 images belonging to 20 classes.\n",
      "Found 5873 images belonging to 20 classes.\n"
     ]
    }
   ],
   "source": [
    "train=keras.preprocessing.image.ImageDataGenerator(preprocessing_function=lambda x: (x - x.mean()) / x.std() if x.std() > 0 else x,zoom_range=0.1,width_shift_range=0.05,height_shift_range=0.05,horizontal_flip=True)\n",
    "valid=keras.preprocessing.image.ImageDataGenerator(preprocessing_function=lambda x: (x - x.mean()) / x.std() if x.std() > 0 else x)\n",
    "\n",
    "trainGenerator=train.flow_from_directory('train',target_size=reSize,batch_size=batchSize,class_mode='categorical', color_mode='rgb')\n",
    "validGenerator=valid.flow_from_directory('valid',target_size=reSize,batch_size=batchSize,class_mode='categorical', color_mode='rgb')\n",
    "# for cls, idx in trainGenerator.class_indices.items():\n",
    "#     print('Class {} = {}'.format(idx, cls))\n"
   ]
  },
  {
   "cell_type": "code",
   "execution_count": 5,
   "metadata": {},
   "outputs": [],
   "source": [
    "def create_model():\n",
    "    vgg16=keras.applications.ResNet50V2(include_top=False, weights='imagenet',input_shape=(reSize[0],reSize[1],3))\n",
    "#     output = layers.Flatten()(res50.output)\n",
    "#     output = layers.BatchNormalization()(output)\n",
    "#     output = layers.Dropout(0.5)(output)\n",
    "#     output = layers.Dense(256, activation='relu')(output)\n",
    "#     output = layers.BatchNormalization()(output)\n",
    "#     output = layers.Dropout(0.5)(output)\n",
    "#     output = layers.Dense(20, activation='softmax')(output)\n",
    "#     model =models.Model(res50.input, output)\n",
    "\n",
    "#     vgg16.trainable = False\n",
    "    return models.Sequential(\n",
    "        [     vgg16,\n",
    "#             layers.Conv2D(64,kernel_size=3, input_shape = (reSize[0],reSize[1], 3), padding='same',activation='relu'),\n",
    "#             layers.MaxPooling2D(pool_size=(2, 2)),\n",
    "#             layers.Conv2D(128,kernel_size=3,padding='same',activation='relu'),\n",
    "#             layers.Conv2D(128,kernel_size=3,padding='same',activation='relu'),\n",
    "#             layers.MaxPooling2D(pool_size=(2, 2)),\n",
    "#             layers.BatchNormalization(),\n",
    "#             layers.Conv2D(128, kernel_size=3, padding='same',activation='relu'),\n",
    "#             layers.Conv2D(128, kernel_size=3, padding='same',activation='relu'),\n",
    "#             layers.MaxPooling2D(pool_size=(2, 2)),\n",
    "#             layers.BatchNormalization(),\n",
    "#             layers.Conv2D(128, kernel_size=3, padding='same',activation='relu'),\n",
    "#             layers.Conv2D(128, kernel_size=3, padding='same',activation='relu'),\n",
    "#             layers.MaxPooling2D(pool_size=(2, 2)),\n",
    "# #             layers.Conv2D(256, kernel_size=3, padding='same',activation='relu'),\n",
    "#             layers.BatchNormalization(),\n",
    "#             layers.Flatten(),\n",
    "#             layers.Dropout(0.5),\n",
    "#             layers.Dense(512,activation=\"relu\"),\n",
    "            layers.GlobalAveragePooling2D(),\n",
    "            layers.Dense(512,activation=\"relu\"),\n",
    "#             layers.Dense(128,activation=\"relu\"),\n",
    "#             layers.Dense(128,activation=\"relu\"),\n",
    "            layers.Dense(20, activation=\"softmax\"),\n",
    "#             model\n",
    "        ]\n",
    "    )\n",
    "\n",
    "\n"
   ]
  },
  {
   "cell_type": "code",
   "execution_count": null,
   "metadata": {},
   "outputs": [
    {
     "name": "stdout",
     "output_type": "stream",
     "text": [
      "Epoch 1/20\n",
      "273/273 [==============================] - 175s 640ms/step - loss: 0.7601 - accuracy: 0.7847 - val_loss: 0.6968 - val_accuracy: 0.8191\n",
      "Epoch 2/20\n",
      "273/273 [==============================] - 175s 641ms/step - loss: 0.2523 - accuracy: 0.9333 - val_loss: 0.3429 - val_accuracy: 0.9082\n",
      "Epoch 3/20\n",
      "273/273 [==============================] - 174s 639ms/step - loss: 0.1724 - accuracy: 0.9539 - val_loss: 0.2405 - val_accuracy: 0.9347\n",
      "Epoch 4/20\n",
      "273/273 [==============================] - 174s 639ms/step - loss: 0.1339 - accuracy: 0.9652 - val_loss: 0.3410 - val_accuracy: 0.9099\n",
      "Epoch 5/20\n",
      "273/273 [==============================] - 178s 652ms/step - loss: 0.0988 - accuracy: 0.9737 - val_loss: 0.1928 - val_accuracy: 0.9532\n",
      "Epoch 6/20\n",
      "273/273 [==============================] - 176s 646ms/step - loss: 0.0837 - accuracy: 0.9785 - val_loss: 0.2127 - val_accuracy: 0.9494\n",
      "Epoch 7/20\n",
      "273/273 [==============================] - 177s 649ms/step - loss: 0.0609 - accuracy: 0.9833 - val_loss: 0.1631 - val_accuracy: 0.9619\n",
      "Epoch 8/20\n",
      "273/273 [==============================] - 177s 647ms/step - loss: 0.0554 - accuracy: 0.9855 - val_loss: 0.2055 - val_accuracy: 0.9532\n",
      "Epoch 9/20\n",
      "273/273 [==============================] - 176s 644ms/step - loss: 0.0516 - accuracy: 0.9862 - val_loss: 0.1686 - val_accuracy: 0.9622\n",
      "Epoch 10/20\n",
      "273/273 [==============================] - 177s 647ms/step - loss: 0.0437 - accuracy: 0.9874 - val_loss: 0.2301 - val_accuracy: 0.9472\n",
      "Epoch 11/20\n",
      "273/273 [==============================] - 178s 652ms/step - loss: 0.0372 - accuracy: 0.9900 - val_loss: 0.2348 - val_accuracy: 0.9439\n",
      "Epoch 12/20\n",
      "273/273 [==============================] - 179s 655ms/step - loss: 0.0391 - accuracy: 0.9896 - val_loss: 0.1578 - val_accuracy: 0.9639\n",
      "Epoch 13/20\n",
      "273/273 [==============================] - 178s 652ms/step - loss: 0.0234 - accuracy: 0.9930 - val_loss: 0.1695 - val_accuracy: 0.9629\n",
      "Epoch 14/20\n",
      "273/273 [==============================] - 177s 648ms/step - loss: 0.0294 - accuracy: 0.9910 - val_loss: 0.2191 - val_accuracy: 0.9528\n",
      "Epoch 15/20\n",
      "132/273 [=============>................] - ETA: 1:16 - loss: 0.0306 - accuracy: 0.9915"
     ]
    }
   ],
   "source": [
    "model = create_model()\n",
    "# model.trainable = True\n",
    "model.compile(optimizer=keras.optimizers.SGD(lr=0.01, momentum=0.9, decay=1e-6, nesterov=True), loss=\"categorical_crossentropy\", metrics=[\"accuracy\"])\n",
    "logdir = os.path.join(\"logs\", datetime.datetime.now().strftime(\"%Y%m%d-%H%M%S\"))\n",
    "tensorboard_callback = keras.callbacks.TensorBoard(logdir, histogram_freq=1)\n",
    "# model.summary()\n",
    "model.fit_generator(trainGenerator,steps_per_epoch=trainGenerator.samples//batchSize,epochs=20,validation_data=validGenerator,validation_steps=validGenerator.samples//batchSize,callbacks=[tensorboard_callback],)\n",
    "# model.save(h5FileName)\n",
    "# # %tensorboard --logdir logs --host 0.0.0.0"
   ]
  },
  {
   "cell_type": "code",
   "execution_count": 15,
   "metadata": {},
   "outputs": [],
   "source": [
    "model_resnet = keras.applications.ResNet50(include_top=False, weights=\"imagenet\", input_shape=(reSize[0],reSize[1],3))\n",
    "# model_resnet.trainable = False\n",
    "# inputs = layers.Input((reSize[0],reSize[1],3))\n",
    "# model_resnet(inputs)\n",
    "# conv1 = layers.Conv2D(32, (3,3), activation = 'relu')(model_resnet.output)\n",
    "# pool1 = layers.GlobalAveragePooling2D()(model_resnet.output)\n",
    "flatten1 =layers.Flatten()(model_resnet.output)\n",
    "# bn1 = layers.BatchNormalization()(pool1)\n",
    "drop1 =layers.Dropout(0.5)(flatten1)\n",
    "flatten1 =layers.Flatten()(drop1)\n",
    "fc2 = layers.Dense(20, activation='softmax')(flatten1)\n",
    "model = models.Model(inputs=model_resnet.input, outputs=fc2)"
   ]
  },
  {
   "cell_type": "code",
   "execution_count": 78,
   "metadata": {},
   "outputs": [],
   "source": [
    "model.save(h5FileName)\n"
   ]
  },
  {
   "cell_type": "code",
   "execution_count": 16,
   "metadata": {},
   "outputs": [
    {
     "name": "stdout",
     "output_type": "stream",
     "text": [
      "Found 990 images belonging to 1 classes.\n"
     ]
    }
   ],
   "source": [
    "test=keras.preprocessing.image.ImageDataGenerator(preprocessing_function=lambda x: (x - x.mean()) / x.std() if x.std() > 0 else x)\n",
    "testGenerator=test.flow_from_directory('test',target_size=reSize,batch_size=1,class_mode='categorical',shuffle=False, color_mode='rgb')\n"
   ]
  },
  {
   "cell_type": "code",
   "execution_count": 17,
   "metadata": {},
   "outputs": [],
   "source": [
    "k=model.predict_generator(testGenerator)"
   ]
  },
  {
   "cell_type": "code",
   "execution_count": 18,
   "metadata": {},
   "outputs": [
    {
     "data": {
      "text/plain": [
       "[0.2191733983573099, 0.94500256]"
      ]
     },
     "execution_count": 18,
     "metadata": {},
     "output_type": "execute_result"
    }
   ],
   "source": [
    "model.evaluate_generator(validGenerator)"
   ]
  },
  {
   "cell_type": "code",
   "execution_count": 19,
   "metadata": {},
   "outputs": [],
   "source": [
    "def submussion():\n",
    "    predict=model.predict_generator(testGenerator)\n",
    "    predict= np.argmax(predict, axis=1)\n",
    "    labels = (trainGenerator.class_indices)\n",
    "    label = dict((v,k) for k,v in labels.items())\n",
    "    predictions = [label[k] for k in predict]\n",
    "    idList=[]\n",
    "    for filename in testGenerator.filenames:\n",
    "        idList.append(int(i[2:-4]))\n",
    "    sub=pd.DataFrame(idList)\n",
    "    sub.columns = ['id']\n",
    "    sub['character']=predictions\n",
    "    sub.sort_values(by=['id']).to_csv(\"Submussion(4).csv\", index=False)\n"
   ]
  },
  {
   "cell_type": "code",
   "execution_count": 99,
   "metadata": {},
   "outputs": [
    {
     "data": {
      "text/plain": [
       "array([15, 10,  1,  9, 16,  2, 15,  5, 19, 16,  9, 16, 14,  2, 13, 18,  3,\n",
       "       18,  1, 10,  3,  6,  5,  3, 16,  1,  1,  4,  4, 11, 19, 12,  4, 11,\n",
       "       18,  1, 19, 15, 14,  6,  7,  2,  3,  8,  2, 11, 12,  7, 18,  3, 11,\n",
       "        3, 18, 11, 10, 18,  7,  8, 14,  7,  4,  1,  5,  1, 10, 15,  7, 14,\n",
       "       15,  4,  1,  1,  2,  5, 18, 12, 11, 19,  5,  8, 15,  1,  2,  1, 19,\n",
       "        4, 19, 18,  1,  9,  4, 10,  3, 18,  1,  5,  8, 18,  1, 11, 10,  4,\n",
       "       16, 14, 12,  9, 14,  7,  1, 16, 15, 16,  8,  7, 19, 18,  0,  6,  4,\n",
       "        4,  4, 17,  7,  9, 15, 18, 18, 16,  1,  3,  1, 15,  0,  5,  2, 12,\n",
       "        6,  4, 12, 16, 14,  7, 10,  7, 15,  4, 16,  2,  1, 14, 12,  0, 16,\n",
       "        7, 16,  5,  7,  5, 13, 15,  6, 11,  1, 14, 12,  7,  3,  2,  8, 19,\n",
       "        7,  6,  0,  3,  1, 18, 18,  6, 16,  9, 11,  8,  2,  6,  5,  7,  0,\n",
       "        4, 14, 13, 10,  7,  7, 16,  1,  1,  5,  2, 15, 19, 11,  2, 19,  1,\n",
       "        6,  5,  1, 15,  9,  0, 17, 10,  3, 12, 17, 18,  8,  9,  3, 12, 13,\n",
       "        7, 11, 14,  5,  6, 16, 17, 13,  6,  9,  6, 11,  9, 15, 17,  5,  0,\n",
       "       12, 12, 16, 16,  1, 18, 15,  7,  5, 15,  3,  7,  6, 17,  6,  3, 11,\n",
       "        2,  1,  8, 13,  2,  0,  4,  8,  6,  8,  9, 16,  7,  8,  3,  3,  7,\n",
       "        2, 17,  8,  7,  5,  1,  0, 11, 16,  4, 19, 18, 10,  2,  0, 11, 11,\n",
       "        7, 13, 19,  9, 14,  5, 11, 12, 18, 17,  0, 12, 11,  6,  4, 11,  1,\n",
       "        7, 14, 19,  0, 10,  3, 18,  0, 16,  4, 12,  6, 15, 11, 15, 16,  7,\n",
       "        0,  7, 16,  2,  2, 10,  7, 12, 12,  1, 16, 14, 12,  3,  2, 17,  0,\n",
       "        7,  3, 13, 12, 12,  1,  7,  5, 16,  4, 15, 14,  5, 19, 12,  9,  1,\n",
       "        1, 14,  9,  3, 16, 17,  5, 14, 19, 10,  4, 19, 17,  7, 17, 14,  5,\n",
       "       17, 19, 10, 16, 16,  5,  7, 18, 19, 13, 11, 12, 17,  7, 15,  2, 13,\n",
       "       14, 18, 17, 18, 11, 19,  5, 16, 12,  6, 16,  5,  5, 10,  6, 13,  5,\n",
       "        5,  1, 12, 12, 14,  4, 17,  7, 18,  1,  8,  5, 15, 19,  1, 12, 12,\n",
       "        5, 14, 15, 16,  7,  4, 12,  3, 18,  1, 15, 16, 18, 17, 11, 13, 19,\n",
       "       17,  5,  9, 19,  8, 12,  0, 14, 16, 16,  0, 13, 12, 11,  4,  5,  9,\n",
       "       11,  2, 15,  7,  4, 12, 17, 13,  7, 19,  2, 13, 18, 19,  2,  5, 18,\n",
       "       13, 17, 15, 18,  8, 10,  9,  3, 11,  4,  9, 18, 16,  6,  4, 10,  1,\n",
       "        8, 11, 12,  2,  5,  4,  8, 11,  5,  4, 10,  4,  3,  0,  8,  7,  7,\n",
       "        0, 13,  9,  3,  5,  7, 13, 16,  9,  5, 16,  4,  2,  3, 11, 17, 16,\n",
       "        8, 15, 15, 19, 13,  2, 16,  5, 10,  5, 19,  9, 14,  5,  1, 14,  4,\n",
       "       19, 15, 15, 17,  2,  9,  5,  9,  7,  7, 10, 11, 10,  6, 10,  2, 14,\n",
       "        9, 17, 16,  0, 17,  0, 15,  7, 18, 10, 19,  0,  9,  0,  5,  9, 15,\n",
       "        5,  9, 16, 12, 18, 11, 15, 19, 18, 18, 16, 15,  5,  2, 15,  1, 11,\n",
       "        7,  7,  1, 17, 15, 10, 18,  8, 16, 19, 16,  6,  7,  5,  0,  1,  8,\n",
       "        8,  3,  9,  6,  3, 13,  2, 17,  6, 11, 16,  6,  4,  1,  2, 18,  2,\n",
       "       11,  8,  8,  0, 10,  2,  4,  7,  2, 14,  2, 19,  4,  0,  5,  4,  7,\n",
       "       11,  9,  8,  1,  1,  9,  9,  0,  5,  6,  2,  3, 15,  8,  9,  7,  8,\n",
       "       17, 18,  8, 15, 15,  5, 12, 15,  8, 10,  6,  7, 19, 16,  9,  9, 14,\n",
       "       16, 16, 15,  4,  7, 12, 10,  7, 13,  3, 18,  4,  6, 16, 16, 14,  8,\n",
       "       19, 11, 12,  2, 14, 18, 13, 12,  7,  4,  8,  3, 12, 16,  5, 15, 15,\n",
       "        6,  4,  9, 17, 11, 16, 14,  6, 18, 13, 11, 15,  3,  5,  1,  9,  3,\n",
       "       19,  6,  7, 17,  3, 15, 13,  6, 19, 18,  5,  1, 15, 11, 18,  8,  7,\n",
       "       12, 12,  9,  3,  8, 17,  8, 14, 15,  3, 13, 17,  8, 19, 18, 15, 18,\n",
       "        7,  4, 15,  5, 15, 18, 12, 12,  2, 16,  6, 13, 15, 10, 12, 18, 11,\n",
       "       13, 19, 10,  0, 17,  6,  2,  2, 14, 16,  7, 16, 17,  7,  7, 15, 15,\n",
       "       17, 19,  4,  6, 15,  3,  3, 16,  7, 10, 14, 16,  6,  8, 18, 11,  5,\n",
       "        5,  0, 10,  7,  8, 16, 13,  7,  2, 11,  7,  4, 12, 15, 15, 18,  6,\n",
       "       15,  6, 16,  5, 14,  4, 12, 17, 18,  3,  2, 11,  4,  4, 17,  2, 11,\n",
       "        1,  4,  7, 13,  7,  9, 16,  9,  8, 12, 12,  5,  5, 12,  7, 13,  9,\n",
       "       10,  6, 15,  8, 10, 16,  2,  0,  0,  9, 19,  9,  8,  9,  8,  3, 10,\n",
       "       18, 13,  2,  4,  9,  2, 15, 14,  5,  8,  0, 10, 12,  3, 16,  0, 17,\n",
       "        0,  4,  8, 15, 11,  4,  1, 11, 12,  3,  4, 18, 16, 18,  4, 13,  7,\n",
       "       19,  7, 14,  2, 19, 16,  9, 11, 19,  9,  7, 15,  4,  6,  4, 18, 19,\n",
       "        0, 10, 18,  0,  8,  8,  7, 10,  2, 18,  2, 16,  5,  2,  1, 15, 13,\n",
       "        7, 10,  9, 18, 16, 14,  7, 16, 15, 14,  8, 15, 15,  1,  8,  1,  6,\n",
       "        3, 14, 10,  7,  2,  8, 12, 19,  8,  2, 10,  4, 10,  2, 17,  4, 13,\n",
       "       11,  5,  9,  2])"
      ]
     },
     "execution_count": 99,
     "metadata": {},
     "output_type": "execute_result"
    }
   ],
   "source": [
    "s"
   ]
  },
  {
   "cell_type": "code",
   "execution_count": 41,
   "metadata": {},
   "outputs": [],
   "source": [
    "labels = (trainGenerator.class_indices)"
   ]
  },
  {
   "cell_type": "code",
   "execution_count": 45,
   "metadata": {},
   "outputs": [
    {
     "data": {
      "text/plain": [
       "{'abraham_grampa_simpson': 0,\n",
       " 'apu_nahasapeemapetilon': 1,\n",
       " 'bart_simpson': 2,\n",
       " 'charles_montgomery_burns': 3,\n",
       " 'chief_wiggum': 4,\n",
       " 'comic_book_guy': 5,\n",
       " 'edna_krabappel': 6,\n",
       " 'homer_simpson': 7,\n",
       " 'kent_brockman': 8,\n",
       " 'krusty_the_clown': 9,\n",
       " 'lenny_leonard': 10,\n",
       " 'lisa_simpson': 11,\n",
       " 'marge_simpson': 12,\n",
       " 'mayor_quimby': 13,\n",
       " 'milhouse_van_houten': 14,\n",
       " 'moe_szyslak': 15,\n",
       " 'ned_flanders': 16,\n",
       " 'nelson_muntz': 17,\n",
       " 'principal_skinner': 18,\n",
       " 'sideshow_bob': 19}"
      ]
     },
     "execution_count": 45,
     "metadata": {},
     "output_type": "execute_result"
    }
   ],
   "source": [
    "labels"
   ]
  },
  {
   "cell_type": "code",
   "execution_count": 39,
   "metadata": {},
   "outputs": [
    {
     "data": {
      "text/plain": [
       "array([ 3506,  3752,  1976, ..., 12926,  8880,  5662])"
      ]
     },
     "execution_count": 39,
     "metadata": {},
     "output_type": "execute_result"
    }
   ],
   "source": [
    "trainGenerator.index_array"
   ]
  },
  {
   "cell_type": "code",
   "execution_count": 42,
   "metadata": {},
   "outputs": [],
   "source": [
    "label = dict((v,k) for k,v in labels.items())\n"
   ]
  },
  {
   "cell_type": "code",
   "execution_count": 44,
   "metadata": {},
   "outputs": [
    {
     "data": {
      "text/plain": [
       "{0: 'abraham_grampa_simpson',\n",
       " 1: 'apu_nahasapeemapetilon',\n",
       " 2: 'bart_simpson',\n",
       " 3: 'charles_montgomery_burns',\n",
       " 4: 'chief_wiggum',\n",
       " 5: 'comic_book_guy',\n",
       " 6: 'edna_krabappel',\n",
       " 7: 'homer_simpson',\n",
       " 8: 'kent_brockman',\n",
       " 9: 'krusty_the_clown',\n",
       " 10: 'lenny_leonard',\n",
       " 11: 'lisa_simpson',\n",
       " 12: 'marge_simpson',\n",
       " 13: 'mayor_quimby',\n",
       " 14: 'milhouse_van_houten',\n",
       " 15: 'moe_szyslak',\n",
       " 16: 'ned_flanders',\n",
       " 17: 'nelson_muntz',\n",
       " 18: 'principal_skinner',\n",
       " 19: 'sideshow_bob'}"
      ]
     },
     "execution_count": 44,
     "metadata": {},
     "output_type": "execute_result"
    }
   ],
   "source": [
    "label"
   ]
  },
  {
   "cell_type": "code",
   "execution_count": 47,
   "metadata": {},
   "outputs": [],
   "source": [
    "predictions = [label[k] for k in gg]"
   ]
  },
  {
   "cell_type": "code",
   "execution_count": null,
   "metadata": {},
   "outputs": [],
   "source": [
    "predictions"
   ]
  },
  {
   "cell_type": "code",
   "execution_count": 69,
   "metadata": {},
   "outputs": [],
   "source": [
    "oo=[]\n",
    "for i in testGenerator.filenames:\n",
    "    oo.append(int(i[2:-4]))"
   ]
  },
  {
   "cell_type": "code",
   "execution_count": 70,
   "metadata": {},
   "outputs": [],
   "source": [
    "ii=pd.DataFrame(oo)\n",
    "ii.columns = ['id']"
   ]
  },
  {
   "cell_type": "code",
   "execution_count": 73,
   "metadata": {},
   "outputs": [],
   "source": [
    "ii['character']=predictions"
   ]
  },
  {
   "cell_type": "code",
   "execution_count": null,
   "metadata": {},
   "outputs": [],
   "source": [
    "c=[]\n",
    "for i in gg:\n",
    "    c.append(kk[i])"
   ]
  },
  {
   "cell_type": "code",
   "execution_count": 45,
   "metadata": {},
   "outputs": [],
   "source": [
    "ssubmussion = pd.read_csv(\"sampleSubmission.csv\")"
   ]
  },
  {
   "cell_type": "code",
   "execution_count": 52,
   "metadata": {},
   "outputs": [],
   "source": [
    "ssubmussion['character']=c"
   ]
  },
  {
   "cell_type": "code",
   "execution_count": 53,
   "metadata": {},
   "outputs": [
    {
     "data": {
      "text/html": [
       "<div>\n",
       "<style scoped>\n",
       "    .dataframe tbody tr th:only-of-type {\n",
       "        vertical-align: middle;\n",
       "    }\n",
       "\n",
       "    .dataframe tbody tr th {\n",
       "        vertical-align: top;\n",
       "    }\n",
       "\n",
       "    .dataframe thead th {\n",
       "        text-align: right;\n",
       "    }\n",
       "</style>\n",
       "<table border=\"1\" class=\"dataframe\">\n",
       "  <thead>\n",
       "    <tr style=\"text-align: right;\">\n",
       "      <th></th>\n",
       "      <th>id</th>\n",
       "      <th>character</th>\n",
       "    </tr>\n",
       "  </thead>\n",
       "  <tbody>\n",
       "    <tr>\n",
       "      <th>0</th>\n",
       "      <td>1</td>\n",
       "      <td>moe_szyslak</td>\n",
       "    </tr>\n",
       "    <tr>\n",
       "      <th>1</th>\n",
       "      <td>2</td>\n",
       "      <td>lenny_leonard</td>\n",
       "    </tr>\n",
       "    <tr>\n",
       "      <th>2</th>\n",
       "      <td>3</td>\n",
       "      <td>apu_nahasapeemapetilon</td>\n",
       "    </tr>\n",
       "    <tr>\n",
       "      <th>3</th>\n",
       "      <td>4</td>\n",
       "      <td>krusty_the_clown</td>\n",
       "    </tr>\n",
       "    <tr>\n",
       "      <th>4</th>\n",
       "      <td>5</td>\n",
       "      <td>ned_flanders</td>\n",
       "    </tr>\n",
       "    <tr>\n",
       "      <th>...</th>\n",
       "      <td>...</td>\n",
       "      <td>...</td>\n",
       "    </tr>\n",
       "    <tr>\n",
       "      <th>985</th>\n",
       "      <td>986</td>\n",
       "      <td>mayor_quimby</td>\n",
       "    </tr>\n",
       "    <tr>\n",
       "      <th>986</th>\n",
       "      <td>987</td>\n",
       "      <td>lisa_simpson</td>\n",
       "    </tr>\n",
       "    <tr>\n",
       "      <th>987</th>\n",
       "      <td>988</td>\n",
       "      <td>comic_book_guy</td>\n",
       "    </tr>\n",
       "    <tr>\n",
       "      <th>988</th>\n",
       "      <td>989</td>\n",
       "      <td>krusty_the_clown</td>\n",
       "    </tr>\n",
       "    <tr>\n",
       "      <th>989</th>\n",
       "      <td>990</td>\n",
       "      <td>bart_simpson</td>\n",
       "    </tr>\n",
       "  </tbody>\n",
       "</table>\n",
       "<p>990 rows × 2 columns</p>\n",
       "</div>"
      ],
      "text/plain": [
       "      id               character\n",
       "0      1             moe_szyslak\n",
       "1      2           lenny_leonard\n",
       "2      3  apu_nahasapeemapetilon\n",
       "3      4        krusty_the_clown\n",
       "4      5            ned_flanders\n",
       "..   ...                     ...\n",
       "985  986            mayor_quimby\n",
       "986  987            lisa_simpson\n",
       "987  988          comic_book_guy\n",
       "988  989        krusty_the_clown\n",
       "989  990            bart_simpson\n",
       "\n",
       "[990 rows x 2 columns]"
      ]
     },
     "execution_count": 53,
     "metadata": {},
     "output_type": "execute_result"
    }
   ],
   "source": [
    "ssubmussion"
   ]
  },
  {
   "cell_type": "code",
   "execution_count": 54,
   "metadata": {},
   "outputs": [],
   "source": [
    "pd.DataFrame(ssubmussion).to_csv(\"Submussion(4).csv\", index=False)"
   ]
  },
  {
   "cell_type": "code",
   "execution_count": 76,
   "metadata": {},
   "outputs": [],
   "source": [
    "ii.sort_values(by=['id']).to_csv(\"Submussion(4).csv\", index=False)"
   ]
  },
  {
   "cell_type": "code",
   "execution_count": 74,
   "metadata": {},
   "outputs": [
    {
     "data": {
      "text/html": [
       "<div>\n",
       "<style scoped>\n",
       "    .dataframe tbody tr th:only-of-type {\n",
       "        vertical-align: middle;\n",
       "    }\n",
       "\n",
       "    .dataframe tbody tr th {\n",
       "        vertical-align: top;\n",
       "    }\n",
       "\n",
       "    .dataframe thead th {\n",
       "        text-align: right;\n",
       "    }\n",
       "</style>\n",
       "<table border=\"1\" class=\"dataframe\">\n",
       "  <thead>\n",
       "    <tr style=\"text-align: right;\">\n",
       "      <th></th>\n",
       "      <th>id</th>\n",
       "      <th>character</th>\n",
       "    </tr>\n",
       "  </thead>\n",
       "  <tbody>\n",
       "    <tr>\n",
       "      <th>0</th>\n",
       "      <td>1</td>\n",
       "      <td>comic_book_guy</td>\n",
       "    </tr>\n",
       "    <tr>\n",
       "      <th>1</th>\n",
       "      <td>10</td>\n",
       "      <td>lenny_leonard</td>\n",
       "    </tr>\n",
       "    <tr>\n",
       "      <th>2</th>\n",
       "      <td>100</td>\n",
       "      <td>apu_nahasapeemapetilon</td>\n",
       "    </tr>\n",
       "    <tr>\n",
       "      <th>3</th>\n",
       "      <td>101</td>\n",
       "      <td>krusty_the_clown</td>\n",
       "    </tr>\n",
       "    <tr>\n",
       "      <th>4</th>\n",
       "      <td>102</td>\n",
       "      <td>ned_flanders</td>\n",
       "    </tr>\n",
       "    <tr>\n",
       "      <th>...</th>\n",
       "      <td>...</td>\n",
       "      <td>...</td>\n",
       "    </tr>\n",
       "    <tr>\n",
       "      <th>985</th>\n",
       "      <td>987</td>\n",
       "      <td>mayor_quimby</td>\n",
       "    </tr>\n",
       "    <tr>\n",
       "      <th>986</th>\n",
       "      <td>988</td>\n",
       "      <td>lisa_simpson</td>\n",
       "    </tr>\n",
       "    <tr>\n",
       "      <th>987</th>\n",
       "      <td>989</td>\n",
       "      <td>comic_book_guy</td>\n",
       "    </tr>\n",
       "    <tr>\n",
       "      <th>988</th>\n",
       "      <td>99</td>\n",
       "      <td>krusty_the_clown</td>\n",
       "    </tr>\n",
       "    <tr>\n",
       "      <th>989</th>\n",
       "      <td>990</td>\n",
       "      <td>bart_simpson</td>\n",
       "    </tr>\n",
       "  </tbody>\n",
       "</table>\n",
       "<p>990 rows × 2 columns</p>\n",
       "</div>"
      ],
      "text/plain": [
       "      id               character\n",
       "0      1          comic_book_guy\n",
       "1     10           lenny_leonard\n",
       "2    100  apu_nahasapeemapetilon\n",
       "3    101        krusty_the_clown\n",
       "4    102            ned_flanders\n",
       "..   ...                     ...\n",
       "985  987            mayor_quimby\n",
       "986  988            lisa_simpson\n",
       "987  989          comic_book_guy\n",
       "988   99        krusty_the_clown\n",
       "989  990            bart_simpson\n",
       "\n",
       "[990 rows x 2 columns]"
      ]
     },
     "execution_count": 74,
     "metadata": {},
     "output_type": "execute_result"
    }
   ],
   "source": [
    "ii"
   ]
  },
  {
   "cell_type": "code",
   "execution_count": 72,
   "metadata": {},
   "outputs": [
    {
     "data": {
      "text/plain": [
       "0        1\n",
       "1       10\n",
       "2      100\n",
       "3      101\n",
       "4      102\n",
       "      ... \n",
       "985    987\n",
       "986    988\n",
       "987    989\n",
       "988     99\n",
       "989    990\n",
       "Name: id, Length: 990, dtype: int64"
      ]
     },
     "execution_count": 72,
     "metadata": {},
     "output_type": "execute_result"
    }
   ],
   "source": [
    "\n",
    "ii['id']"
   ]
  },
  {
   "cell_type": "code",
   "execution_count": null,
   "metadata": {},
   "outputs": [],
   "source": []
  }
 ],
 "metadata": {
  "kernelspec": {
   "display_name": "Python 3",
   "language": "python",
   "name": "python3"
  },
  "language_info": {
   "codemirror_mode": {
    "name": "ipython",
    "version": 3
   },
   "file_extension": ".py",
   "mimetype": "text/x-python",
   "name": "python",
   "nbconvert_exporter": "python",
   "pygments_lexer": "ipython3",
   "version": "3.7.3"
  }
 },
 "nbformat": 4,
 "nbformat_minor": 4
}
