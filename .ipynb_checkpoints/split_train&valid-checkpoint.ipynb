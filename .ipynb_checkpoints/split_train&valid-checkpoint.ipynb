{
 "cells": [
  {
   "cell_type": "code",
   "execution_count": 3,
   "metadata": {},
   "outputs": [],
   "source": [
    "import os\n",
    "from shutil import copyfile\n",
    "import random"
   ]
  },
  {
   "cell_type": "code",
   "execution_count": 6,
   "metadata": {},
   "outputs": [],
   "source": [
    "def check(splitNum):\n",
    "    for dirname in os.listdir(\"RAW_DATA-2\"):\n",
    "        for (dirpath, dirnames, filenames) in os.walk(os.path.join(\"RAW_DATA-2\", dirname)):\n",
    "            yield dirname, int(len(filenames) * splitNum), filenames\n",
    "\n",
    "\n",
    "def main():\n",
    "    \n",
    "    for dirname, splitnum, files in check(0.7):\n",
    "        print(dirname,len(files))\n",
    "        for file in files[:splitnum]:\n",
    "            sorce = os.path.join(\"RAW_DATA\", dirname, file)\n",
    "            destination = os.path.join(\"train\", dirname, file)\n",
    "            copyfile(sorce, destination)\n",
    "        for file in files[splitnum:]:\n",
    "            sorce = os.path.join(\"RAW_DATA\", dirname, file)\n",
    "            destination = os.path.join(\"valid\", dirname, file)\n",
    "            copyfile(sorce, destination)"
   ]
  },
  {
   "cell_type": "code",
   "execution_count": 7,
   "metadata": {},
   "outputs": [
    {
     "name": "stdout",
     "output_type": "stream",
     "text": [
      "bart_simpson 1342\n",
      "mayor_quimby 246\n",
      "lisa_simpson 1354\n",
      "comic_book_guy 469\n",
      "nelson_muntz 358\n",
      "edna_krabappel 457\n",
      "apu_nahasapeemapetilon 623\n",
      "charles_montgomery_burns 1193\n",
      "homer_simpson 2246\n",
      "ned_flanders 1454\n",
      "abraham_grampa_simpson 913\n",
      "marge_simpson 1291\n",
      "principal_skinner 1194\n",
      "moe_szyslak 1452\n",
      "krusty_the_clown 1206\n",
      "lenny_leonard 310\n",
      "chief_wiggum 986\n",
      "sideshow_bob 877\n",
      "milhouse_van_houten 1079\n",
      "kent_brockman 498\n"
     ]
    }
   ],
   "source": [
    "for dirname, splitnum, files in check():\n",
    "    print(dirname,len(files))"
   ]
  },
  {
   "cell_type": "code",
   "execution_count": 28,
   "metadata": {},
   "outputs": [],
   "source": [
    "for (dirpath, dirnames, filenames) in os.walk(os.path.join(\"train\", \"bart_simpson\")):\n",
    "    for i in listg:\n",
    "        for g in filenames:\n",
    "            if i == g:\n",
    "                os.remove(os.path.join(dirpath,g))\n"
   ]
  },
  {
   "cell_type": "code",
   "execution_count": 24,
   "metadata": {},
   "outputs": [
    {
     "data": {
      "text/plain": [
       "'train/apu_nahasapeemapetilon'"
      ]
     },
     "execution_count": 24,
     "metadata": {},
     "output_type": "execute_result"
    }
   ],
   "source": [
    "dirpath"
   ]
  },
  {
   "cell_type": "code",
   "execution_count": 11,
   "metadata": {},
   "outputs": [
    {
     "data": {
      "text/plain": [
       "'pic_0489.jpg'"
      ]
     },
     "execution_count": 11,
     "metadata": {},
     "output_type": "execute_result"
    }
   ],
   "source": [
    "filenames[1]"
   ]
  },
  {
   "cell_type": "code",
   "execution_count": 26,
   "metadata": {},
   "outputs": [],
   "source": [
    "listg=['pic_0108.jpg',\n",
    " 'pic_0112.jpg',\n",
    " 'pic_0283.jpg',\n",
    " 'pic_0301.jpg',\n",
    " 'pic_0344.jpg',\n",
    " 'pic_0406.jpg',\n",
    " 'pic_0414.jpg',\n",
    " 'pic_0605.jpg',\n",
    " 'pic_0640.jpg',\n",
    " 'pic_0700.jpg',\n",
    " 'pic_0703.jpg',\n",
    " 'pic_0705.jpg',\n",
    " 'pic_0712.jpg',\n",
    " 'pic_0765.jpg',\n",
    " 'pic_0971.jpg',\n",
    " 'pic_0995.jpg',\n",
    " 'pic_1164.jpg',\n",
    " 'pic_1307.jpg']"
   ]
  }
 ],
 "metadata": {
  "kernelspec": {
   "display_name": "Python 3",
   "language": "python",
   "name": "python3"
  },
  "language_info": {
   "codemirror_mode": {
    "name": "ipython",
    "version": 3
   },
   "file_extension": ".py",
   "mimetype": "text/x-python",
   "name": "python",
   "nbconvert_exporter": "python",
   "pygments_lexer": "ipython3",
   "version": "3.7.3"
  }
 },
 "nbformat": 4,
 "nbformat_minor": 4
}
