{
 "cells": [
  {
   "cell_type": "code",
   "execution_count": null,
   "metadata": {},
   "outputs": [],
   "source": [
    "import os\n",
    "from shutil import copyfile\n",
    "import random"
   ]
  },
  {
   "cell_type": "code",
   "execution_count": null,
   "metadata": {},
   "outputs": [],
   "source": [
    "def check(splitNum):\n",
    "    for dirname in os.listdir(\"RAW_DATA-2\"):\n",
    "        for (dirpath, dirnames, filenames) in os.walk(os.path.join(\"RAW_DATA-2\", dirname)):\n",
    "            yield dirname, int(len(filenames) * splitNum), filenames\n",
    "\n",
    "\n",
    "def main():\n",
    "    for dirname, splitnum, files in check(0.7):\n",
    "        print(dirname,len(files))\n",
    "        for file in files[:splitnum]:\n",
    "            sorce = os.path.join(\"RAW_DATA\", dirname, file)\n",
    "            destination = os.path.join(\"train\", dirname, file)\n",
    "            copyfile(sorce, destination)\n",
    "        for file in files[splitnum:]:\n",
    "            sorce = os.path.join(\"RAW_DATA\", dirname, file)\n",
    "            destination = os.path.join(\"valid\", dirname, file)\n",
    "            copyfile(sorce, destination)"
   ]
  },
  {
   "cell_type": "code",
   "execution_count": null,
   "metadata": {},
   "outputs": [],
   "source": [
    "main()"
   ]
  }
 ],
 "metadata": {
  "kernelspec": {
   "display_name": "Python 3",
   "language": "python",
   "name": "python3"
  },
  "language_info": {
   "codemirror_mode": {
    "name": "ipython",
    "version": 3
   },
   "file_extension": ".py",
   "mimetype": "text/x-python",
   "name": "python",
   "nbconvert_exporter": "python",
   "pygments_lexer": "ipython3",
   "version": "3.7.3"
  }
 },
 "nbformat": 4,
 "nbformat_minor": 4
}
